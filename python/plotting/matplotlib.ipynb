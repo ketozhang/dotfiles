{
 "cells": [
  {
   "cell_type": "code",
   "execution_count": 1,
   "metadata": {
    "ExecuteTime": {
     "end_time": "2020-05-02T02:12:37.238642Z",
     "start_time": "2020-05-02T02:12:35.271807Z"
    }
   },
   "outputs": [],
   "source": [
    "import numpy as np\n",
    "import pandas as pd\n",
    "from scipy import stats\n",
    "\n",
    "import matplotlib as mpl\n",
    "import matplotlib.pyplot as plt\n",
    "\n",
    "mpl.rcParams[\"figure.max_open_warning\"] = False\n",
    "np.random.seed(19680801)"
   ]
  },
  {
   "cell_type": "code",
   "execution_count": 2,
   "metadata": {},
   "outputs": [],
   "source": [
    "def plot_ts(ax, t1_mean=1, t2_mean=-1, size=100):\n",
    "    t1 = stats.norm(t1_mean).rvs(size=size)\n",
    "    t2 = stats.norm(t2_mean).rvs(size=size)\n",
    "\n",
    "    ax.plot(t1, label='$t_1$')\n",
    "    ax.plot(t2, label='$t_2$')\n",
    "\n",
    "    ax.set_xlabel('X-value')\n",
    "    ax.set_ylabel('Y-value')\n",
    "    ax.legend()\n",
    "    return ax\n",
    "    \n",
    "def plot_many_ts(ax, nlines=5, size=100):\n",
    "    for i in range(nlines):\n",
    "        t = stats.norm(-i*2).rvs(size=size)\n",
    "        ax.plot(t, label=f'$t_{i}$') \n",
    "\n",
    "    ax.set_xlabel('X-value')\n",
    "    ax.set_ylabel('Y-value')\n",
    "    ax.legend()\n",
    "    return ax\n",
    "\n",
    "def plot_histogram(ax, size=1000, xmean=0, xerr=1):\n",
    "    rv = stats.norm(xmean, xerr)\n",
    "    x = rv.rvs(size)\n",
    "    \n",
    "    bins = size // 2\n",
    "    if bins > 100:\n",
    "        bins = 100\n",
    "        \n",
    "    ax.hist(x, histtype=\"bar\")\n",
    "    \n",
    "    ax.set_xlabel('X-value')\n",
    "    ax.set_ylabel('Y-value')\n",
    "    return ax\n",
    "    \n",
    "def plot_histograms(ax, size=1000, xmean=0, xerr=1):\n",
    "    rv = stats.norm\n",
    "    \n",
    "    bins = size // 2\n",
    "    if bins > 100:\n",
    "        bins = 100\n",
    "        \n",
    "    ax.hist(rv.rvs(xmean, xerr, size), label=f\"$\\mu={xmean:.2f}, \\sigma={xerr:.2f}$\", alpha=0.5)\n",
    "    ax.hist(rv.rvs(xmean-5, xerr*2, size), label=f\"$\\mu={xmean:.2f}, \\sigma={xerr*2:.2f}$\", alpha=0.5)\n",
    "    ax.hist(rv.rvs(xmean+10, xerr*4, size), label=f\"$\\mu={xmean:.2f}, \\sigma={xerr*4:.2f}$\", alpha=0.5)\n",
    "    \n",
    "    ax.set_xlabel('X-value')\n",
    "    ax.set_ylabel('Y-value')\n",
    "    ax.legend()\n",
    "    return ax\n",
    "    \n",
    "    \n",
    "def plot_errorbar(ax, size=100, xmean=0, ymean=0, xerr=1, yerr=1, rho=0.75,\n",
    "                  errorbar_kwargs=dict(fmt=\"o\")\n",
    "                 ):\n",
    "    cov = [[2, rho],\n",
    "           [rho, 2]]\n",
    "    rv = stats.multivariate_normal([xmean, ymean], cov)\n",
    "    sample = rv.rvs(size=size)\n",
    "    \n",
    "    x = sample[:, 0] + stats.norm(scale=xerr).rvs(len(sample))\n",
    "    y = sample[:, 1] + stats.norm(scale=yerr).rvs(len(sample))\n",
    "\n",
    "    ax.errorbar(x, y, xerr, yerr, **errorbar_kwargs)\n",
    "\n",
    "    ax.set_xlabel('X-value')\n",
    "    ax.set_ylabel('Y-value')\n",
    "    return ax\n",
    "    \n",
    "def plot_showcase(max_cols=2, figsize=None, layout=\"equal\"):\n",
    "    default_width, default_height = plt.rcParams['figure.figsize']\n",
    "    default_lw = plt.rcParams[\"lines.linewidth\"]\n",
    "    \n",
    "    \n",
    "    nplots = 5\n",
    "    if layout == \"equal\":\n",
    "        ncols = int(np.ceil(nplots / 2))\n",
    "        if ncols > max_cols:\n",
    "            ncols = max_cols\n",
    "        nrows = int(np.ceil(nplots / ncols))\n",
    "    elif layout == \"row\":\n",
    "        nrows, ncols = 1, nplots\n",
    "        \n",
    "    figsize = figsize or (default_width*ncols, default_height*nrows)\n",
    "    fig, axs = plt.subplots(nrows, ncols, figsize=figsize)\n",
    "    axs = iter(axs.flatten())\n",
    "    \n",
    "    plot_ts(next(axs))\n",
    "    plot_many_ts(next(axs))\n",
    "    plot_histogram(next(axs))\n",
    "    plot_histograms(next(axs))\n",
    "    plot_errorbar(next(axs), errorbar_kwargs=dict(lw=default_lw/4, fmt=\"ko\"))\n",
    "    \n",
    "    # Turn off remaning axes\n",
    "    for ax in axs:\n",
    "        ax.axis('off')\n",
    "    \n",
    "    return fig, axs"
   ]
  },
  {
   "cell_type": "markdown",
   "metadata": {},
   "source": [
    "# Matplotlib Themes\n",
    "https://matplotlib.org/3.1.1/gallery/style_sheets/style_sheets_reference.html"
   ]
  },
  {
   "cell_type": "code",
   "execution_count": 3,
   "metadata": {
    "ExecuteTime": {
     "end_time": "2020-05-02T02:12:37.490302Z",
     "start_time": "2020-05-02T02:12:37.240900Z"
    }
   },
   "outputs": [],
   "source": [
    "# for style in plt.style.available:\n",
    "#     with plt.style.context(style):\n",
    "#         fig, axs = plot_showcase(layout=\"row\")\n",
    "#         fig.suptitle(style)"
   ]
  },
  {
   "cell_type": "markdown",
   "metadata": {},
   "source": [
    "## Chosen Theme Set\n",
    "\n",
    "`seaborn-poster`"
   ]
  },
  {
   "cell_type": "code",
   "execution_count": 4,
   "metadata": {},
   "outputs": [],
   "source": [
    "# plt.style.use(\"seaborn-poster\")\n",
    "# plot_showcase()"
   ]
  },
  {
   "cell_type": "markdown",
   "metadata": {},
   "source": [
    "# Personal Customization"
   ]
  },
  {
   "cell_type": "code",
   "execution_count": null,
   "metadata": {},
   "outputs": [],
   "source": [
    "plt.style.use(\"seaborn-poster\")\n",
    "plt.style.use('style.mplstyle')\n",
    "plot_showcase()\n",
    "plt.tight_layout()"
   ]
  }
 ],
 "metadata": {
  "kernelspec": {
   "display_name": "Python 3",
   "language": "python",
   "name": "python3"
  },
  "language_info": {
   "codemirror_mode": {
    "name": "ipython",
    "version": 3
   },
   "file_extension": ".py",
   "mimetype": "text/x-python",
   "name": "python",
   "nbconvert_exporter": "python",
   "pygments_lexer": "ipython3",
   "version": "3.8.6"
  },
  "toc": {
   "base_numbering": 1,
   "nav_menu": {},
   "number_sections": true,
   "sideBar": true,
   "skip_h1_title": false,
   "title_cell": "Table of Contents",
   "title_sidebar": "Contents",
   "toc_cell": false,
   "toc_position": {},
   "toc_section_display": true,
   "toc_window_display": false
  }
 },
 "nbformat": 4,
 "nbformat_minor": 4
}
